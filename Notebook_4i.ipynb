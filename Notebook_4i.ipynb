{
 "cells": [
  {
   "cell_type": "markdown",
   "id": "20c7a5aa",
   "metadata": {},
   "source": [
    "# Notebook 4: Testing Explanations \n",
    "\n",
    "\n",
    "## 4.1: Experimenting with our Data\n",
    "\n",
    "At this point, we have developed all sorts of 'hypotheses' or 'guesses' of the factors causing people to contract cholera. We noted that some explanatory variables correlate to our death outcome variable... what we want to know now is to determine which of these relationships, if any, are ***significant***. \n",
    "\n",
    "<br>\n",
    "\n",
    "<table><tr>\n",
    "    <td> <img src=\"imgs/ambiguous_correlation.png\" alt=\"Drawing\" style=\"width: 600px;\"/> </td>\n",
    "</tr></table>\n",
    "\n",
    "<br>\n",
    "\n",
    "\n",
    "<img src=\"imgs/pencil.png\" alt=\"Drawing\" align=left style=\"width: 20px;\"/> <font size=4> **Journal 4a:** Finding Patterns in Data </font>\n",
    "\n",
    "**What is (potentially) wrong with one or more of the \"lines of best fit\" in the graphs above?** \n",
    "\n",
    "> Write your answer here! \n",
    "\n",
    "<br>\n",
    "\n",
    "<br> \n",
    "\n",
    "__In this notebook__, we deep-dive into our hypotheses about how cholera spread in London. In this notebook, we seek to separate signal from the noise. That is, we will show that some hypotheses are likely a better fit for the data and are harder to reject, in a ***statistically significant*** way, than others. \n",
    "\n",
    "<br>\n",
    "\n",
    "<table><tr>\n",
    "    <td> <img src=\"imgs/santa_p.png\" alt=\"Drawing\" style=\"width: 300px;\"/> </td>\n",
    "</tr></table>\n",
    "\n",
    "<br>\n",
    "\n",
    "**By the end of this notebook, you should be able to**: \n",
    "- Understand the idea of experiments\n",
    "- Create and interpret contingency tables and the $Chi^2$ statistic\n",
    "- Apply this to two theories about how cholera was transmitted\n",
    "- Create data visualizations\n",
    "<br><br>\n",
    "\n",
    "Let's begin by loading our data...\n"
   ]
  },
  {
   "cell_type": "code",
   "execution_count": 9,
   "id": "bb8573e9",
   "metadata": {},
   "outputs": [
    {
     "data": {
      "text/html": [
       "<div>\n",
       "<style scoped>\n",
       "    .dataframe tbody tr th:only-of-type {\n",
       "        vertical-align: middle;\n",
       "    }\n",
       "\n",
       "    .dataframe tbody tr th {\n",
       "        vertical-align: top;\n",
       "    }\n",
       "\n",
       "    .dataframe thead th {\n",
       "        text-align: right;\n",
       "    }\n",
       "</style>\n",
       "<table border=\"1\" class=\"dataframe\">\n",
       "  <thead>\n",
       "    <tr style=\"text-align: right;\">\n",
       "      <th></th>\n",
       "      <th>ID</th>\n",
       "      <th>deaths_r</th>\n",
       "      <th>deaths_nr</th>\n",
       "      <th>deaths</th>\n",
       "      <th>pestfield</th>\n",
       "      <th>dis_pestf</th>\n",
       "      <th>dis_sewers</th>\n",
       "      <th>dis_bspump</th>\n",
       "    </tr>\n",
       "  </thead>\n",
       "  <tbody>\n",
       "    <tr>\n",
       "      <th>0</th>\n",
       "      <td>1</td>\n",
       "      <td>0</td>\n",
       "      <td>0</td>\n",
       "      <td>0</td>\n",
       "      <td>1</td>\n",
       "      <td>10.08</td>\n",
       "      <td>10.08</td>\n",
       "      <td>125.00</td>\n",
       "    </tr>\n",
       "    <tr>\n",
       "      <th>2</th>\n",
       "      <td>3</td>\n",
       "      <td>0</td>\n",
       "      <td>0</td>\n",
       "      <td>0</td>\n",
       "      <td>1</td>\n",
       "      <td>18.47</td>\n",
       "      <td>18.47</td>\n",
       "      <td>116.27</td>\n",
       "    </tr>\n",
       "    <tr>\n",
       "      <th>3</th>\n",
       "      <td>4</td>\n",
       "      <td>0</td>\n",
       "      <td>0</td>\n",
       "      <td>0</td>\n",
       "      <td>1</td>\n",
       "      <td>22.98</td>\n",
       "      <td>22.98</td>\n",
       "      <td>112.56</td>\n",
       "    </tr>\n",
       "    <tr>\n",
       "      <th>4</th>\n",
       "      <td>5</td>\n",
       "      <td>0</td>\n",
       "      <td>0</td>\n",
       "      <td>0</td>\n",
       "      <td>1</td>\n",
       "      <td>27.47</td>\n",
       "      <td>27.47</td>\n",
       "      <td>109.10</td>\n",
       "    </tr>\n",
       "    <tr>\n",
       "      <th>7</th>\n",
       "      <td>8</td>\n",
       "      <td>0</td>\n",
       "      <td>0</td>\n",
       "      <td>0</td>\n",
       "      <td>1</td>\n",
       "      <td>36.43</td>\n",
       "      <td>36.43</td>\n",
       "      <td>97.56</td>\n",
       "    </tr>\n",
       "    <tr>\n",
       "      <th>...</th>\n",
       "      <td>...</td>\n",
       "      <td>...</td>\n",
       "      <td>...</td>\n",
       "      <td>...</td>\n",
       "      <td>...</td>\n",
       "      <td>...</td>\n",
       "      <td>...</td>\n",
       "      <td>...</td>\n",
       "    </tr>\n",
       "    <tr>\n",
       "      <th>1847</th>\n",
       "      <td>1848</td>\n",
       "      <td>0</td>\n",
       "      <td>0</td>\n",
       "      <td>0</td>\n",
       "      <td>0</td>\n",
       "      <td>249.82</td>\n",
       "      <td>22.11</td>\n",
       "      <td>191.88</td>\n",
       "    </tr>\n",
       "    <tr>\n",
       "      <th>1848</th>\n",
       "      <td>1849</td>\n",
       "      <td>0</td>\n",
       "      <td>0</td>\n",
       "      <td>0</td>\n",
       "      <td>0</td>\n",
       "      <td>239.67</td>\n",
       "      <td>4.75</td>\n",
       "      <td>197.54</td>\n",
       "    </tr>\n",
       "    <tr>\n",
       "      <th>1849</th>\n",
       "      <td>1850</td>\n",
       "      <td>0</td>\n",
       "      <td>0</td>\n",
       "      <td>0</td>\n",
       "      <td>0</td>\n",
       "      <td>295.72</td>\n",
       "      <td>18.06</td>\n",
       "      <td>261.31</td>\n",
       "    </tr>\n",
       "    <tr>\n",
       "      <th>1850</th>\n",
       "      <td>1851</td>\n",
       "      <td>0</td>\n",
       "      <td>0</td>\n",
       "      <td>0</td>\n",
       "      <td>0</td>\n",
       "      <td>317.18</td>\n",
       "      <td>6.00</td>\n",
       "      <td>286.47</td>\n",
       "    </tr>\n",
       "    <tr>\n",
       "      <th>1851</th>\n",
       "      <td>1852</td>\n",
       "      <td>0</td>\n",
       "      <td>0</td>\n",
       "      <td>0</td>\n",
       "      <td>0</td>\n",
       "      <td>333.69</td>\n",
       "      <td>7.33</td>\n",
       "      <td>299.40</td>\n",
       "    </tr>\n",
       "  </tbody>\n",
       "</table>\n",
       "<p>1483 rows × 8 columns</p>\n",
       "</div>"
      ],
      "text/plain": [
       "        ID  deaths_r  deaths_nr  deaths  pestfield  dis_pestf  dis_sewers  \\\n",
       "0        1         0          0       0          1      10.08       10.08   \n",
       "2        3         0          0       0          1      18.47       18.47   \n",
       "3        4         0          0       0          1      22.98       22.98   \n",
       "4        5         0          0       0          1      27.47       27.47   \n",
       "7        8         0          0       0          1      36.43       36.43   \n",
       "...    ...       ...        ...     ...        ...        ...         ...   \n",
       "1847  1848         0          0       0          0     249.82       22.11   \n",
       "1848  1849         0          0       0          0     239.67        4.75   \n",
       "1849  1850         0          0       0          0     295.72       18.06   \n",
       "1850  1851         0          0       0          0     317.18        6.00   \n",
       "1851  1852         0          0       0          0     333.69        7.33   \n",
       "\n",
       "      dis_bspump  \n",
       "0         125.00  \n",
       "2         116.27  \n",
       "3         112.56  \n",
       "4         109.10  \n",
       "7          97.56  \n",
       "...          ...  \n",
       "1847      191.88  \n",
       "1848      197.54  \n",
       "1849      261.31  \n",
       "1850      286.47  \n",
       "1851      299.40  \n",
       "\n",
       "[1483 rows x 8 columns]"
      ]
     },
     "execution_count": 9,
     "metadata": {},
     "output_type": "execute_result"
    }
   ],
   "source": [
    "import pandas as pd\n",
    "from matplotlib import pyplot as plt\n",
    "\n",
    "house_data = pd.read_csv('Datasets/deaths_nd_by_house.csv')\n",
    "house_data[house_data['deaths'] == 0]"
   ]
  },
  {
   "cell_type": "markdown",
   "id": "11236fae",
   "metadata": {},
   "source": [
    "This data looks different than our prior data. This is because people in charge of the city’s sewers went door-to-door in a neighborhood hard hit by cholera deaths to assess the claim that toxic fumes from its sewers were causing the deaths. They collected data from 1,852 households in total, described as follows: \n",
    "- **deaths_r:** the number of deaths of **r**esidents of the house. \n",
    "- **deaths_r:** the number of deaths of **n**on-**r**esidents (visitors) of the house. \n",
    "- **deaths:** the total deaths of both residents and non-residents. \n",
    "- **pestfield:** houses near the pest field, which some believed was emitting toxic air from people buried there after dying of the pest.\n",
    "- **dis_pestf:** distance (in meters) from the nearest pest field (1m ~ 3.3 ft). \n",
    "- **dis_sewers:** distance (in meters) from the nearest sewer. \n",
    "- **dis_bspump:** distance (in meters) from the Broad St pump.\n",
    "\n",
    "<br>\n",
    "\n",
    "<table><tr>\n",
    "    <td> <img src=\"imgs/doors.jpeg\" alt=\"Drawing\" style=\"width: 500px;\"/> </td>\n",
    "</tr></table>\n",
    "<br>\n",
    "\n",
    "<br>\n",
    "\n",
    "Here, we should pause to discuss an important aspect of data science: ***Data problems like errors, bias, or omissions.***\n",
    "\n",
    "<br>\n",
    "\n",
    "<img src=\"imgs/pencil.png\" alt=\"Drawing\" align=left style=\"width: 20px;\"/> <font size=4> **Journal 4b:** Identifying Problems in our Data </font>\n",
    "\n",
    "**What data points may be missing in the household data set?** \n",
    "\n",
    "> Write your answer here! "
   ]
  },
  {
   "cell_type": "markdown",
   "id": "fe62cf54",
   "metadata": {},
   "source": [
    "## 4.2: Introducing the Idea of Experiments\n",
    "\n",
    "You used correlations before to explore whether there is a positive, negative (or no!) relationship between two variables. You also assessed how strong this relationship is and whether it is statistically significant. In this case, the variables had values that ranged across a whole continuum of numbers, i.e. they were continuously distributed. \n",
    "\n",
    "What you’ll do in this notebook is convert continuously distributed data into categories (= categorical data). Why? Because you can  group your data in a way that allows you to compare the outcome in one group to that of another group, contingent on a condition. The condition will be the potential explanation you want to explore across groups to see if it has a differential impact. \n",
    "\n",
    "For instance, you could create groups based on whether people died of a disease or not – and whether they lived in high-density areas or not. That gives you a 2x2 crosstab and four groups (also called a ***contingency table***). After you add the count of the number of people in each of the four crosstab cells, you are ready to make a two-way comparison: Did more people die in the high- vs low-density areas and were there more survivors in low- than high-density areas? The idea here is that you have one group that is exposed to a condition (density) more so than another group. When you run an actual experiment, the exposed group is often called an impact or treatment group while the unexposed group is the control.\n",
    "\n",
    "\n",
    "<img src=\"imgs/image 4.2a.png\" style=\"width: 800px;\"/>\n",
    "    \n",
    "\n",
    "\n",
    "In the case of correlations, pandas gave you the correlation coefficient r that indicated the direction and strength of the linear relation between two variables. A $p$-value indicated whether or not this relation is **statistically significant**, i.e. different from what you would get for random data patterns.\n",
    "\n",
    "To assess whether the relation between an outcome and explanatory variable differs between the groups in the contingency table, we need a new statistic and significance test for categorical data. The test statistic we will use is called **$Chi^2$**.\n",
    "\n",
    "**A simple example**: Is whether you *smoke or not (outcome)* influenced by your *sex (explanatory)*? Men and women might smoke for different reasons, e.g. to maintain nicotine levels or for stress and weight reduction, which could impact whether or not they smoke and how much they smoke.\n",
    "We want to measure differences in two ways here (\"**difference in differences**\"): whether differences in sex are related to differences in smoking or not. See the example below:  -->\n",
    "In the following, we will explore a hypothesis using $Chi^2$ and contingency tables! Let's investigate the hypothesis that one's sex (M,F) can determine whether one smokes or not. \n",
    "\n",
    "Before we proceed, a note about continuous and categorical data: If you have continuously distributed data, you can convert this into categories using a threshold, e.g. population density into high and low density. How to determine thresholds for categories is often difficult and up for debate, as illustrated by the example of male and female below vs. also including non-binary and other. \n",
    "\n",
    "<br> \n",
    "Let's begin by creating some *synthetic* (read: fake) data and creating a contingency matrix!"
   ]
  },
  {
   "cell_type": "code",
   "execution_count": 10,
   "id": "398533b8",
   "metadata": {},
   "outputs": [
    {
     "name": "stdout",
     "output_type": "stream",
     "text": [
      "This is our raw smoker data...\n"
     ]
    },
    {
     "data": {
      "text/html": [
       "<div>\n",
       "<style scoped>\n",
       "    .dataframe tbody tr th:only-of-type {\n",
       "        vertical-align: middle;\n",
       "    }\n",
       "\n",
       "    .dataframe tbody tr th {\n",
       "        vertical-align: top;\n",
       "    }\n",
       "\n",
       "    .dataframe thead th {\n",
       "        text-align: right;\n",
       "    }\n",
       "</style>\n",
       "<table border=\"1\" class=\"dataframe\">\n",
       "  <thead>\n",
       "    <tr style=\"text-align: right;\">\n",
       "      <th></th>\n",
       "      <th>Sex</th>\n",
       "      <th>isSmoker</th>\n",
       "    </tr>\n",
       "  </thead>\n",
       "  <tbody>\n",
       "    <tr>\n",
       "      <th>0</th>\n",
       "      <td>M</td>\n",
       "      <td>Smoker</td>\n",
       "    </tr>\n",
       "    <tr>\n",
       "      <th>1</th>\n",
       "      <td>M</td>\n",
       "      <td>Smoker</td>\n",
       "    </tr>\n",
       "    <tr>\n",
       "      <th>2</th>\n",
       "      <td>M</td>\n",
       "      <td>Non-Smoker</td>\n",
       "    </tr>\n",
       "    <tr>\n",
       "      <th>3</th>\n",
       "      <td>F</td>\n",
       "      <td>Non-Smoker</td>\n",
       "    </tr>\n",
       "    <tr>\n",
       "      <th>4</th>\n",
       "      <td>F</td>\n",
       "      <td>Smoker</td>\n",
       "    </tr>\n",
       "  </tbody>\n",
       "</table>\n",
       "</div>"
      ],
      "text/plain": [
       "  Sex    isSmoker\n",
       "0   M      Smoker\n",
       "1   M      Smoker\n",
       "2   M  Non-Smoker\n",
       "3   F  Non-Smoker\n",
       "4   F      Smoker"
      ]
     },
     "execution_count": 10,
     "metadata": {},
     "output_type": "execute_result"
    }
   ],
   "source": [
    "# Import the scipy library for running Chi-square evaluations \n",
    "from scipy.stats import chi2_contingency\n",
    "\n",
    "# Let's create some 'mock' data about smokers and non-smokers (and their sex)\n",
    "smoke_data = pd.DataFrame({'Sex' : ['M', 'M', 'M', 'F', 'F']*10,\n",
    "                   'isSmoker' : ['Smoker', 'Smoker', 'Non-Smoker', 'Non-Smoker', 'Smoker']*10\n",
    "                  })\n",
    "\n",
    "print(\"This is our raw smoker data...\")\n",
    "smoke_data.head()"
   ]
  },
  {
   "cell_type": "markdown",
   "id": "f3d8129b",
   "metadata": {},
   "source": [
    "A contingency table simply shows the total frequencies of each variable, with one variable appearing on each axis (the x-y ordering does not matter here!)\n",
    "\n",
    "While there *are* libraries to create contingency tables for us, we will build one ourselves in order to better understand it! (and, well, to get some more practice with PANDAS!!) \n",
    "\n",
    "Let's begin by **manually** counting how many people are in each group, as follows:"
   ]
  },
  {
   "cell_type": "code",
   "execution_count": 11,
   "id": "a4000d94",
   "metadata": {},
   "outputs": [],
   "source": [
    "# This is a *function*. We do not discuss these in detail. \n",
    "\n",
    "def visualize_contingency_table(contingency_table, top_labels, left_labels):\n",
    "    # print(\"\\t\\t  Close | Far \")\n",
    "    print('{:<20s} {:<20s} {:<10s}'.format(top_labels[0], top_labels[1], top_labels[2]))\n",
    "\n",
    "    i = 0\n",
    "    for line in contingency_table:\n",
    "        print('{:<20s} {:<20s} {:<10s}'.format(left_labels[i], str(line[0]), str(line[1])))\n",
    "        i += 1\n",
    "    print(\"\\n\")"
   ]
  },
  {
   "cell_type": "code",
   "execution_count": 12,
   "id": "d95a1267",
   "metadata": {},
   "outputs": [
    {
     "name": "stdout",
     "output_type": "stream",
     "text": [
      "Our contingency table...\n",
      "                     Smoker               Nonsmoker \n",
      "Male                 20                   10        \n",
      "Female               10                   10        \n",
      "\n",
      "\n"
     ]
    }
   ],
   "source": [
    "# Fill in the missing Pandas filters! \n",
    "nonsmokers = smoke_data[smoke_data['isSmoker']=='Non-Smoker']\n",
    "smokers = smoke_data[smoke_data['isSmoker']=='Smoker'] # ???\n",
    "\n",
    "nonsmoker_f = nonsmokers[nonsmokers['Sex']=='F'] # ???\n",
    "smoker_f = smokers[smokers['Sex']=='F'] # ??? \n",
    "\n",
    "nonsmoker_m = nonsmokers[nonsmokers['Sex']=='M'] # ???\n",
    "smoker_m = smokers[smokers['Sex']=='M'] # ??? \n",
    "\n",
    "# \"shape\" contains [#rows, #cols]. We want to count the rows!\n",
    "n_nonsmoker_m = nonsmoker_m.shape[0]\n",
    "n_nonsmoker_f = nonsmoker_f.shape[0]\n",
    "n_smoker_m = smoker_m.shape[0]\n",
    "n_smoker_f = smoker_f.shape[0]\n",
    "\n",
    "# Now let's put it all together into a contingency table with the following shape! \n",
    "#            | Smoker | Non-Smoker |\n",
    "# Male       |    A   |     B      |\n",
    "# Female     |    C   |     D      |\n",
    "\n",
    "contingency_table = [\n",
    "    [n_smoker_m, n_nonsmoker_m],\n",
    "    [n_smoker_f, n_nonsmoker_f]\n",
    "]\n",
    "left_labels = [\"Male\", \"Female\"]\n",
    "top_labels = [\" \", \"Smoker\", \"Nonsmoker\"]\n",
    "\n",
    "print(\"Our contingency table...\")\n",
    "visualize_contingency_table(contingency_table, top_labels, left_labels)"
   ]
  },
  {
   "cell_type": "markdown",
   "id": "9016320d",
   "metadata": {},
   "source": [
    "##### And that is your contingency table! \n",
    "\n",
    "<br>\n",
    "\n",
    "<img src=\"imgs/pencil.png\" alt=\"Drawing\" align=left style=\"width: 20px;\"/> <font size=4> **Journal 4c:** Interpreting Contingency Tables</font>\n",
    "\n",
    "**Can you explain, in plain terms, what the numbers in the contingency table mean?** \n",
    "\n",
    "> Write your answer here! \n",
    "\n",
    "\n",
    "##### Now let's submit our contingency table to a $Chi^2$ test!The test will compare the observed values in your table to “expected” values (expecting half of all women smoked and half of all men smoked). The larger the $Chi^2$ value, the larger the difference between actual and expected observations (the size of chi2 also depends on the scale of the numbers).\n",
    "You can obtain a p-value  to determine whether your observed counts differ from the expected ones (this is done by comparing your $Chi^2$ value to a threshold value from a $Chi^2$ distribution).\n"
   ]
  },
  {
   "cell_type": "code",
   "execution_count": 13,
   "id": "538ede00",
   "metadata": {},
   "outputs": [
    {
     "name": "stdout",
     "output_type": "stream",
     "text": [
      "Our p-value: 0.3767591178115821\n"
     ]
    }
   ],
   "source": [
    "# Now let us get our p-value! \n",
    "# ... when doing data science in Python, it is common convention to use\n",
    "#.    \"_\" characters to mark variables whose values we don't need. \n",
    "_, p_value, _, _ = chi2_contingency(contingency_table)\n",
    "print(f\"Our p-value: {p_value}\")"
   ]
  },
  {
   "cell_type": "markdown",
   "id": "57e784bd",
   "metadata": {},
   "source": [
    "<img src=\"imgs/pencil.png\" alt=\"Drawing\" align=left style=\"width: 20px;\"/> <font size=4> **Journal 4d:** Interpreting p-value 1</font>\n",
    "\n",
    "**In plain terms, can you explain what your p-value means?** \n",
    "\n",
    "> Write your answer here! \n",
    "\n",
    "<img src=\"imgs/pencil.png\" alt=\"Drawing\" align=left style=\"width: 20px;\"/> <font size=4> **Journal 4e:** Interpreting p-value for $Chi^2$ 2</font>\n",
    "\n",
    "**Based on your p-value for $Chi^2$, is the difference between whether people smoke or not statistically significant between men and women (at a 95% confidence level)?\n",
    "\n",
    "> Write your answer here! \n"
   ]
  },
  {
   "cell_type": "markdown",
   "id": "f87b5612",
   "metadata": {},
   "source": [
    "## 4.3: Investigating the Sewers\n",
    "\n",
    "Now that we've learned how to conduct a $Chi^2$ analysis using a contingency table to determine whether outcomes differ significantly between groups for varying conditions, let's apply this to the cholera data! \n",
    "\n",
    "<table><tr>\n",
    "    <td> <img src=\"imgs/channel-sewer.jpeg\" alt=\"Drawing\" style=\"width: 300px;\"/> </td>\n",
    "</tr></table>\n",
    "\n",
    "The first theory we will explore assumes that cholera is airborne and that people get infected by inhaling toxic fumes from localized sources. In this case, the source is fumes emitted from sewage lines through gully holes. \n",
    "\n",
    "If this theory was true, then closer proximity to sewers would make it more likely to inhale the toxic air and contract cholera. For simplicity, let us assume someone is 'close' to a sewer if they are at most 40 feet (12.2 meters) from it... otherwise they are 'far'.\n",
    "\n",
    "##### Let us first filter our data to create our contingency table!"
   ]
  },
  {
   "cell_type": "code",
   "execution_count": 14,
   "id": "c558c8a9",
   "metadata": {},
   "outputs": [
    {
     "name": "stdout",
     "output_type": "stream",
     "text": [
      "Number of deaths close to sewers: 224\n",
      "Number of deaths far from sewers 482\n",
      "\n",
      "Number of nondeaths close to sewers: 436\n",
      "Number of nondeaths far from sewers 1047\n",
      "\n",
      "\n"
     ]
    }
   ],
   "source": [
    "# We first want to 'filter' our data frame to see only people who are close/far from sewer. \n",
    "sewer_close_deaths_df = house_data.loc[house_data['dis_sewers'] <= 12.2] # ['???'] <= ??? \n",
    "sewer_far_deaths_df = house_data.loc[house_data['dis_sewers'] > 12.2] # ['???'] <= ??? \n",
    "\n",
    "# We next want to calculate the number of deaths in each class. \n",
    "sewer_close_deaths = sewer_close_deaths_df['deaths'].sum() # .???\n",
    "sewer_far_deaths = sewer_far_deaths_df['deaths'].sum() # .??? \n",
    "\n",
    "\n",
    "# We next want to 'filter' for non-deaths by determining if no residents OR non-residents died at a house. \n",
    "# ... we'll provide this one as it's a bit trickier!\n",
    "sewer_close_nondeaths = sum((sewer_close_deaths_df.deaths == 0))\n",
    "sewer_far_nondeaths = sum((sewer_far_deaths_df.deaths == 0))\n",
    "\n",
    "\n",
    "print(f\"Number of deaths close to sewers: {sewer_close_deaths}\")\n",
    "print(f\"Number of deaths far from sewers {sewer_far_deaths}\\n\")\n",
    "\n",
    "print(f\"Number of nondeaths close to sewers: {sewer_close_nondeaths}\")\n",
    "print(f\"Number of nondeaths far from sewers {sewer_far_nondeaths}\\n\\n\")"
   ]
  },
  {
   "cell_type": "code",
   "execution_count": 15,
   "id": "1d6132c6",
   "metadata": {},
   "outputs": [
    {
     "name": "stdout",
     "output_type": "stream",
     "text": [
      "Our contingency table...\n",
      "                     Deaths               Non Deaths\n",
      "Close                224                  482       \n",
      "Far                  436                  1047      \n",
      "\n",
      "\n"
     ]
    }
   ],
   "source": [
    "# Now let's put it all together into a contingency table with the following shape! \n",
    "#            | Deaths | Non Deaths |\n",
    "# Close      |    A   |     B      |\n",
    "# Far        |    C   |     D      |\n",
    "\n",
    "contingency_table = [\n",
    "    [sewer_close_deaths, sewer_far_deaths],\n",
    "    [sewer_close_nondeaths, sewer_far_nondeaths]\n",
    "]\n",
    "\n",
    "left_labels = [\"Close\", \"Far\"]\n",
    "top_labels = [\" \", \"Deaths\", \"Non Deaths\"]\n",
    "\n",
    "print(\"Our contingency table...\")\n",
    "visualize_contingency_table(contingency_table, top_labels, left_labels)"
   ]
  },
  {
   "cell_type": "code",
   "execution_count": 16,
   "id": "c80e3d79",
   "metadata": {},
   "outputs": [
    {
     "name": "stdout",
     "output_type": "stream",
     "text": [
      "Our p-value: 0.28927858447134214\n"
     ]
    }
   ],
   "source": [
    "# Now let us get our p-value! \n",
    "# ... when doing data science in Python, it is common convention to use\n",
    "#.    \"_\" characters to mark variables whose values we don't need. \n",
    "_, p_value, _, _ = chi2_contingency(contingency_table)\n",
    "print(f\"Our p-value: {p_value}\")"
   ]
  },
  {
   "cell_type": "markdown",
   "id": "de4d0078",
   "metadata": {},
   "source": [
    "<img src=\"imgs/pencil.png\" alt=\"Drawing\" align=left style=\"width: 20px;\"/> <font size=4> **Journal 4f:** Interpreting p-value for $Chi^2$ test: Sewers</font>\n",
    "\n",
    "**Based on the p-value of your $Chi^2$ test, is the relationship you observe between deaths and closeness to sewers significantly different from what you would expect if equal numbers of people were in each of the four groups? (at a 95% confidence level)** \n",
    "\n",
    "> Write your answer here! \n",
    "\n",
    "\n",
    "An important part of data science is not only determining statistical significance of hypotheses, but also communicating your findings to people without a statistics background. \n",
    "\n",
    "Imagine reading a newspaper headline (like below) that says ’The p-value was below 0.05’... the average person does not know what this means! Visualizing your results is an important step in convincing others that your evidence is compelling! In the following, we create (and interpret) data visualizations that make it easier to understand your statistical results.\n",
    "\n",
    "<table><tr>\n",
    "    <td> <img src=\"imgs/funny_paper.jpeg\" alt=\"Drawing\" style=\"width: 300px;\"/> </td>\n",
    "</tr></table>\n",
    "\n",
    "\n",
    "\n",
    "We first explore a **histogram** -- a type of bar graph used to show differences in the frequency (or count) of various events. (In this case, the events are deaths and non-deaths of people close and far from the sewer). "
   ]
  },
  {
   "cell_type": "code",
   "execution_count": 17,
   "id": "68c3c091",
   "metadata": {},
   "outputs": [
    {
     "data": {
      "text/plain": [
       "<matplotlib.legend.Legend at 0x7f78a850c7f0>"
      ]
     },
     "execution_count": 17,
     "metadata": {},
     "output_type": "execute_result"
    },
    {
     "data": {
      "image/png": "[encoded data removed]",
      "text/plain": [
       "<Figure size 432x288 with 1 Axes>"
      ]
     },
     "metadata": {
      "needs_background": "light"
     },
     "output_type": "display_data"
    }
   ],
   "source": [
    "# Histogram\n",
    "\n",
    "# Let's calculate the percentages of deaths that are 'close' versus 'far'. \n",
    "#    Close Deaths + Far Deaths should sum to 1! \n",
    "# (then we can do the same for non-graphs)\n",
    "sewer_close_deaths_pct = sewer_close_deaths / (sewer_close_deaths+sewer_far_deaths)\n",
    "sewer_far_deaths_pct = 1 - sewer_close_deaths_pct\n",
    "\n",
    "sewer_close_nondeaths_pct = sewer_close_nondeaths / (sewer_close_nondeaths+sewer_far_nondeaths)\n",
    "sewer_far_nondeaths_pct = 1 - sewer_close_nondeaths_pct\n",
    "\n",
    "\n",
    "# 1. Let's first view the CLOSE deaths vs nondeaths. \n",
    "plt.bar(x=['close_deaths', 'close_nondeaths'], \n",
    "        height=[sewer_close_deaths_pct, sewer_close_nondeaths_pct], color='purple', label='close')\n",
    "\n",
    "# 2. Let's first view the FAR deaths vs nondeaths.\n",
    "plt.bar(x=['far_deaths', 'far_nondeaths'], \n",
    "        height=[sewer_far_deaths_pct, sewer_far_nondeaths_pct], color='gold', label='far')\n",
    "plt.ylim((0,1))\n",
    "plt.title(\"Deaths and Nondeaths (Close and Far): HISTOGRAM\")\n",
    "plt.legend()"
   ]
  },
  {
   "cell_type": "markdown",
   "id": "ea82154c",
   "metadata": {},
   "source": [
    "As an alternative to histograms, line graphs can be used to display the same data. See below...."
   ]
  },
  {
   "cell_type": "code",
   "execution_count": 18,
   "id": "8b8b8b69",
   "metadata": {},
   "outputs": [
    {
     "data": {
      "text/plain": [
       "Text(0.5, 1.0, 'Deaths and Nondeaths (Close versus Far): LINE GRAPH')"
      ]
     },
     "execution_count": 18,
     "metadata": {},
     "output_type": "execute_result"
    },
    {
     "data": {
      "image/png": "[encoded data removed]",
      "text/plain": [
       "<Figure size 432x288 with 1 Axes>"
      ]
     },
     "metadata": {
      "needs_background": "light"
     },
     "output_type": "display_data"
    }
   ],
   "source": [
    "# Line graphs\n",
    "\n",
    "plt.plot(['Close', 'Far'], [sewer_close_deaths_pct, sewer_far_deaths_pct], label='deaths')\n",
    "plt.plot(['Close', 'Far'], [sewer_close_nondeaths_pct, sewer_far_nondeaths_pct], label='nondeaths')\n",
    "plt.legend()\n",
    "plt.title(\"Deaths and Nondeaths (Close versus Far): LINE GRAPH\")"
   ]
  },
  {
   "cell_type": "markdown",
   "id": "36d6bbd3",
   "metadata": {},
   "source": [
    "<img src=\"imgs/pencil.png\" alt=\"Drawing\" align=left style=\"width: 20px;\"/> <font size=4> **Journal 4g:** Interpreting the Visualizations</font>\n",
    "\n",
    "**Do the histogram and line graph reach the same conclusion as your $Chi^2$ analysis? Why or why not?** \n",
    "\n",
    "> Write your answer here! \n",
    "\n",
    "<br>\n",
    "\n",
    "<br>\n",
    "\n",
    "--------------\n",
    "\n",
    "### The 3 second rule\n",
    "The 3 Second Rule (https://stephanieevergreen.com/the-3-second-rule/) states that one gets 3 seconds to grab someone’s attention and flag the take-home point of a data visualization. \n",
    "\n",
    "--------------\n",
    "\n",
    "<br>\n",
    "\n",
    "<br>\n",
    "\n",
    "\n",
    "<img src=\"imgs/pencil.png\" alt=\"Drawing\" align=left style=\"width: 20px;\"/> <font size=4> **Journal 4h:** The BETTER visualization</font>\n",
    "\n",
    "**Which visualization (histogram or line graph) better follows the 3-second rule?** \n",
    "\n",
    "> Write your answer here! "
   ]
  },
  {
   "cell_type": "markdown",
   "id": "6b992896",
   "metadata": {},
   "source": [
    "## 4.4: Investigating the Broad Street Pump"
   ]
  },
  {
   "cell_type": "markdown",
   "id": "1af67128",
   "metadata": {},
   "source": [
    "Next, we want to explore the theory that cholera was transmitted through contaminated water. At the time, John Snow guessed that the water of a particular pump, the Broad Street Pump, might have carried pieces of poisonous sewage. Was this true? \n",
    "\n",
    "<table><tr>\n",
    "    <td> <img src=\"imgs/pump3.jpeg\" alt=\"Drawing\" style=\"width: 300px;\"/> </td>\n",
    "</tr></table>\n",
    "\n",
    "Now that you have experience performing not one, but TWO $Chi^2$ analyses, this one will be largely independent! In the following cells, you will need to: \n",
    "- filter your data\n",
    "- create a contingency table\n",
    "- generate (and comment on) the statistical significance\n",
    "- provide one visualization (two, if time!) to convince your audience that your conclusion is plausible! \n",
    "\n"
   ]
  },
  {
   "cell_type": "code",
   "execution_count": 19,
   "id": "f52c22d3",
   "metadata": {},
   "outputs": [],
   "source": [
    "# Filter data here. \n"
   ]
  },
  {
   "cell_type": "code",
   "execution_count": 20,
   "id": "f41d2fb4",
   "metadata": {},
   "outputs": [],
   "source": [
    "# Create contingency table here. \n"
   ]
  },
  {
   "cell_type": "code",
   "execution_count": 21,
   "id": "8cbf2833",
   "metadata": {},
   "outputs": [],
   "source": [
    "# Find p-value here. \n"
   ]
  },
  {
   "cell_type": "markdown",
   "id": "40c08d82",
   "metadata": {},
   "source": [
    "<img src=\"imgs/pencil.png\" alt=\"Drawing\" align=left style=\"width: 20px;\"/> <font size=4> **Journal 4i:** Interpreting p-value: Sewers</font>\n",
    "\n",
    "**Based on your p-value, is the relation you observe between deaths and closeness to sewers significantly different from what you would expect if the number of people in each group was equal? (at a 95% confidence interval?)** \n",
    "\n",
    "> Write your answer here! "
   ]
  },
  {
   "cell_type": "code",
   "execution_count": 22,
   "id": "0c81cf1b",
   "metadata": {},
   "outputs": [],
   "source": [
    "# Create histogram here. \n"
   ]
  },
  {
   "cell_type": "code",
   "execution_count": 23,
   "id": "19befff0",
   "metadata": {},
   "outputs": [],
   "source": [
    "# Create line graph here. \n"
   ]
  },
  {
   "cell_type": "markdown",
   "id": "bef528e7",
   "metadata": {},
   "source": [
    "<img src=\"imgs/pencil.png\" alt=\"Drawing\" align=left style=\"width: 20px;\"/> <font size=4> **Journal 4j:** Interpreting the Visualizations</font>\n",
    "\n",
    "**Do the histogram and line graph reach the same conclusion as your $Chi^2$ analysis? Why or why not?** \n",
    "\n",
    "> Write your answer here! \n",
    "\n",
    "<br>\n",
    "\n",
    "<br>\n",
    "\n",
    "--------------"
   ]
  },
  {
   "cell_type": "markdown",
   "id": "b1e10797",
   "metadata": {},
   "source": [
    "## 4.5: Reflection\n",
    "<img src=\"imgs/pencil.png\" alt=\"Drawing\" align=left style=\"width: 20px;\"/> <font size=\"4\">**Journal 4k:** Reflection </font>\n",
    "\n",
    "**What do you understand better after this notebook than before?**\n",
    "> Write your answer here! \n",
    "\n",
    "**Please fill out the Notebook survey here!**\n",
    "> https://forms.gle/54KHEbPGsRxQU3Bh9\n",
    "\n",
    "<br>\n",
    "\n",
    "--------------------------------\n",
    "\n",
    "<br>\n",
    "\n",
    "<img src=\"imgs/save-icon.jpeg\" alt=\"Drawing\" align=left style=\"width: 20px;\"/> <font size=\"4\">     **&ensp;&ensp;&ensp;Last step: save your work!** </font>"
   ]
  },
  {
   "cell_type": "code",
   "execution_count": null,
   "id": "42b624e1",
   "metadata": {},
   "outputs": [],
   "source": []
  }
 ],
 "metadata": {
  "kernelspec": {
   "display_name": "Python [conda env:data4all]",
   "language": "python",
   "name": "conda-env-data4all-py"
  },
  "language_info": {
   "codemirror_mode": {
    "name": "ipython",
    "version": 3
   },
   "file_extension": ".py",
   "mimetype": "text/x-python",
   "name": "python",
   "nbconvert_exporter": "python",
   "pygments_lexer": "ipython3",
   "version": "3.9.12"
  }
 },
 "nbformat": 4,
 "nbformat_minor": 5
}
