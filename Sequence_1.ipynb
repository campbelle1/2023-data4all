{
 "cells": [
  {
   "cell_type": "markdown",
   "id": "a06e7973",
   "metadata": {},
   "source": [
    "\n",
    "# Notebook 1: Seeing the Problem as Data\n",
    "\n",
    "\n",
    "## 1.1: What is Data?\n",
    "\n",
    "Like the word **information**, **data** is such a general word that it refers to lots of things.\n",
    "\n",
    "In this workshop, we’ll focus on data as something **collected** or **recorded** about the **real world**, to better observe and understand the world. \n",
    "\n",
    "\n",
    "### Data in the real world\n",
    "Data can be found all around our daily lives. Data about weather is collected by weather stations and used by meteorologists to determine weather outcomes. Data about your Netflix viewing history can be used by Netflix's algorithms to recommend new movies and shows that better match your interests. \n",
    "\n",
    "<br>\n",
    "\n",
    "<table><tr>\n",
    "    <td> <img src=\"imgs/netflix-image.jpeg\" alt=\"Drawing\" style=\"width: 400px;\"/> </td>\n",
    "    <td> <img src=\"imgs/weather-image.jpeg\" alt=\"Drawing\" style=\"width: 400px;\"/> </td>\n",
    "</tr></table>\n",
    "\n",
    "<br>\n",
    "\n",
    "<img src=\"imgs/pencil.png\" alt=\"Drawing\" align=left style=\"width: 20px;\"/> <font size=4> **Journal 1a:** Data in YOUR world </font>\n",
    "\n",
    "**Give an example of data in your daily life, e.g. data that you collect or that’s collected about you. Explain where it comes from, how it's collected/recorded, and for what it's used.** \n",
    "\n",
    "> Write your answer here! \n"
   ]
  },
  {
   "cell_type": "markdown",
   "id": "c19a8767",
   "metadata": {},
   "source": [
    "### Data from the 1854 London cholera outbreak\n",
    "\n",
    "Cholera is a disease that we now know how to treat but before this treatment was discovered at a time of your great-great- grandparents, only 1 in 2 infected people had a chance to survive. At that time, in mid-19th century London, doctors, health inspectors, pastors and many others desperately tried to find the cause of cholera to stop people from dying. One of them was **John Snow**, a physician who started recording the following information about London households:\n",
    "\n",
    "![](imgs/img-ledger.png)\n",
    "\n",
    "<!-- As you can see, there are data about the following (in order):\n",
    "- House number\n",
    "- Neighborhood\n",
    "- Occupation\n",
    "- Age\n",
    "- Symptoms\n",
    "- Water Supplier -->\n",
    "\n",
    "<img src=\"imgs/pencil.png\" alt=\"Drawing\" align=left style=\"width: 20px;\"/> <font size=4>**Journal 1b:** Taking inventory: what do we have?</font>\n",
    "\n",
    "**Describe the data you see in John Snow's notes (the photo). What types of data are present? Are there other types of data you would want to collect if you were trying to find out how cholera is transmitted?** \n",
    "\n",
    "> Write your answer here! \n",
    "\n",
    "**Now we will embark on our own journey to trace the origins of the Cholera epidemic, but instead by using a 21st century data science toolkit!**\n",
    "<br><br>\n",
    "In the next cell, please add your information to get started! \n",
    "<br><br>"
   ]
  },
  {
   "cell_type": "code",
   "execution_count": 1,
   "id": "c45b5fbc",
   "metadata": {},
   "outputs": [
    {
     "name": "stdout",
     "output_type": "stream",
     "text": [
      ">>> Hello world, my name is John Snow!\n"
     ]
    }
   ],
   "source": [
    "# Change this to be your name! \n",
    "first_name = \"John\"\n",
    "last_name = \"Snow\"\n",
    "\n",
    "# print is the simplest Python function -- it allows us to view our data! \n",
    "print(f\">>> Hello world, my name is {first_name} {last_name}!\")"
   ]
  },
  {
   "cell_type": "markdown",
   "id": "743538b9",
   "metadata": {},
   "source": [
    "## 1.2: Representing Data on the Computer\n",
    "\n",
    "In this **Jupyter notebook**, we will begin our data science journey via the **Python programming language**. \n",
    "\n",
    "<img src=\"imgs/python-image.png\" alt=\"Drawing\" style=\"width: 400px;\"/>\n",
    "\n",
    "\n",
    "**By the end of this notebook, you should be able to**: \n",
    "- Represent data from the real world in Python\n",
    "- See how data are stored, grouped, and organized for data science\n",
    "- Understand and manipulate variables and lists\n",
    "<br><br>\n",
    "\n",
    "**Data representation in Python**\n",
    "The following contains some of the data from above represented in Python code. All of the *{}* and *:* symbols aside, this should map somehow to John Snow's notes shown above. "
   ]
  },
  {
   "cell_type": "code",
   "execution_count": 2,
   "id": "246e95fa",
   "metadata": {},
   "outputs": [
    {
     "name": "stdout",
     "output_type": "stream",
     "text": [
      "Our list of people: [{'house_number': 7, 'neighborhood': \"Layton's Buildings\", 'date': 'July 29', 'occupation': 'tailor', 'age': 20, 'symptoms': 'cholera 17 hours', 'water_supplier': 'Southwark & Vauxhall'}, {'house_number': 2, 'neighborhood': \"Dobb's Cross\", 'date': 'July 30', 'occupation': 'son of a shop-keeper', 'age': 10, 'symptoms': 'cholera Asiatic 24 hours', 'water_supplier': 'Southwark & Vauxhall'}, {'house_number': 81, 'neighborhood': 'Ann Street', 'date': 'July 29', 'occupation': 'son of a labourer', 'age': 12, 'symptoms': 'cholera 8 hours', 'water_supplier': 'Southwark & Vauxhall'}]\n"
     ]
    }
   ],
   "source": [
    "\n",
    "person_0 = {\"house_number\": 7, \n",
    "            \"neighborhood\": \"Layton's Buildings\",\n",
    "            \"date\": \"July 29\", \n",
    "            \"occupation\": \"tailor\",\n",
    "            \"age\": 20, \n",
    "            \"symptoms\": \"cholera 17 hours\",\n",
    "            \"water_supplier\": \"Southwark & Vauxhall\"}\n",
    "\n",
    "person_1 = {\"house_number\": 2, \n",
    "            \"neighborhood\": \"Dobb's Cross\",\n",
    "            \"date\": \"July 30\", \n",
    "            \"occupation\": \"son of a shop-keeper\",\n",
    "            \"age\": 10, \n",
    "            \"symptoms\": \"cholera Asiatic 24 hours\",\n",
    "            \"water_supplier\": \"Southwark & Vauxhall\"}\n",
    "\n",
    "person_2 = {\"house_number\": 81, \n",
    "            \"neighborhood\": \"Ann Street\",\n",
    "            \"date\": \"July 29\", \n",
    "            \"occupation\": \"son of a labourer\",\n",
    "            \"age\": 12, \n",
    "            \"symptoms\": \"cholera 8 hours\",\n",
    "            \"water_supplier\": \"Southwark & Vauxhall\"}\n",
    "\n",
    "# We can 'group' all of these data together by using a 'list'!\n",
    "people_list = [person_0, person_1, person_2]\n",
    "print(f\"Our list of people: {people_list}\")\n"
   ]
  },
  {
   "cell_type": "markdown",
   "id": "480635f1",
   "metadata": {},
   "source": [
    "<img src=\"imgs/break.jpeg\" alt=\"Drawing\" align=left style=\"width: 100px;\"/> <font size=\"4\">**WE ARE GOING TO TAKE A SHORT BREAK HERE!**</font> "
   ]
  },
  {
   "cell_type": "markdown",
   "id": "6ab98134",
   "metadata": {},
   "source": [
    "<img src=\"imgs/pencil.png\" alt=\"Drawing\" align=left style=\"width: 20px;\"/> <font size=\"4\">**Journal 1c:** The data whisperer...</font>"
   ]
  },
  {
   "cell_type": "markdown",
   "id": "1225e05d",
   "metadata": {},
   "source": [
    "## 1.3: Let's *slow down* and smell the... data types?\n",
    "\n",
    "So now we beg the question... ***what was actually going on in the previous code?***\n",
    "\n",
    "In this section, we are going to see if we can understand the basic units of Python data storage: \n",
    "- types\n",
    "- variables\n",
    "- lists\n",
    "- lists of lists\n",
    "\n",
    "\n",
    "--------------\n",
    "There are several **types** in Python that can be used to represent data values. I outline a handful of types in the following:\n",
    "\n",
    "\n",
    "| Type | Description | Examples |\n",
    "| :-- | :-- | :-- |\n",
    "| String ('str') | A sequence of characters; stored within \"\" | \"cat\", \"London\", \"27\" |\n",
    "| Integer ('int')| Whole positive or negative numbers *without* decimal points | -50, 0, 27 |\n",
    "| Float ('float') | Real numbers that *can* have multiple decimal points | -50.0, 0.75, 3.14159 |\n",
    "| List ('list') | A sequence of any Python data type; stored within \\[ \\] | \\[\"a\", \"b\", \"c\"\\] |\n",
    "\n",
    "<br><br>\n",
    "We can see the type of data in Python by using the `type()` function as shown in the following cell: "
   ]
  },
  {
   "cell_type": "code",
   "execution_count": 3,
   "id": "f8365798",
   "metadata": {},
   "outputs": [
    {
     "name": "stdout",
     "output_type": "stream",
     "text": [
      "<class 'str'>\n",
      "<class 'int'>\n",
      "<class 'str'>\n",
      "<class 'float'>\n",
      "<class 'list'>\n"
     ]
    }
   ],
   "source": [
    "# Types\n",
    "print(type(\"London\"))\n",
    "print(type(37))\n",
    "print(type(\"37\"))\n",
    "print(type(37.0))\n",
    "print(type(['a', 'b', 'c']))"
   ]
  },
  {
   "cell_type": "markdown",
   "id": "3cc55318",
   "metadata": {},
   "source": [
    "<img src=\"imgs/pencil.png\" alt=\"Drawing\" align=left style=\"width: 20px;\"/> <font size=\"4\">**Journal 1d:** Learning about types!</font>\n",
    "\n",
    "**In the following cell, write some example lines that answer the following questions:**\n",
    "\n",
    "c1. **What is the type of a string that uses '' instead of \"\"? **\n",
    "> Write your answer here! \n",
    "\n",
    "c2. **Can we have different types in the same list? **\n",
    "> Write your answer here!\n",
    "\n",
    "c3. **What happens if we turn \"London\" into London (no quotes) and try to run the cell? **\n",
    "> Write your answer here!"
   ]
  },
  {
   "cell_type": "code",
   "execution_count": 4,
   "id": "4ff398eb",
   "metadata": {},
   "outputs": [],
   "source": [
    "# Example for c1 here! \n",
    "\n",
    "# Example for c2 here! \n",
    "\n",
    "# Example for c3 here!"
   ]
  },
  {
   "cell_type": "markdown",
   "id": "466fcfe9",
   "metadata": {},
   "source": [
    "A **variable** is a Python storage container for a **single type** of data. For instance, in algebra class, you might be familiar with math equations like the following:  \n",
    "\n",
    "$2x=50$\n",
    "\n",
    "... where $x$ is an **integer variable** that represents some value ***(which is???)***. \n",
    "\n",
    "In Python, we can set variables to be almost anything that we want. Earlier in this notebook, for instance, we used two string variables to represent your first and last names using two string variables: \n",
    "```\n",
    "first_name = \"John\"\n",
    "last_name = \"Snow\"\n",
    "```\n",
    "\n",
    "### Coding Exercise: \n",
    "Create variables (of appropriate types!) that suit the following prompts. Print their values at the end of the cell!"
   ]
  },
  {
   "cell_type": "code",
   "execution_count": 5,
   "id": "9bd168a7",
   "metadata": {},
   "outputs": [],
   "source": [
    "# Your ZIP code. \n",
    "\n",
    "# Your dream college.\n",
    "\n",
    "# A list of your top 5 favorite musical artists.\n",
    "\n",
    "\n",
    "# ... Now use the print() command on all 3 variables to see their values! "
   ]
  },
  {
   "cell_type": "markdown",
   "id": "c28cd35b",
   "metadata": {},
   "source": [
    "<img src=\"imgs/pencil.png\" alt=\"Drawing\" align=left style=\"width: 20px;\"/>  <font size=\"4\">**Journal 1e:** Variables</font>\n",
    "\n",
    "**Why did you choose the 'type' you did for each variable?**\n",
    "\n",
    "> Write your answer for ZIP code here!\n",
    "\n",
    "> Write your answer for dream college here!\n",
    "\n",
    "> Write your answer for musical artists here!"
   ]
  },
  {
   "cell_type": "markdown",
   "id": "bb7322e4",
   "metadata": {},
   "source": [
    "## 1.4: Expanding our Data Science Toolbox with 'lists of lists'. \n",
    "\n",
    "As mentioned before, a **list** in Python is a sequence of other Python types, such as `[1, 2, 3, 4, 5]` or `['a', 'b', 'c']`. Interestingly, you can also create a list of lists in Python to create **tabular** data, or data in row-column format. \n",
    "\n",
    "We can very easily rewrite our data into a 'list of lists' format. See as follows...\n"
   ]
  },
  {
   "cell_type": "code",
   "execution_count": 6,
   "id": "30ac67f1",
   "metadata": {},
   "outputs": [
    {
     "name": "stdout",
     "output_type": "stream",
     "text": [
      "This is our list of lists: [[7, \"Layton's Buildings\", 'July 29', 'tailor', 20, 'cholera 17 hours', 'Southwark & Vauxhall'], [2, \"Dobb's Cross\", 'July 30', 'son of a shop-keeper', 10, 'cholera Asiatic 24 hours', 'Southwark & Vauxhall'], [81, 'Ann Street', 'July 29', 'son of a labourer', 12, 'cholera 8 hours', 'Southwark & Vauxhall']]\n"
     ]
    }
   ],
   "source": [
    "\n",
    "headers = [\"house_number\", \"neighborhood\", \"date\", \"occupation\", \"age\", \"symptoms\", \"water_supplier\"]\n",
    "person_list_0 =  [7, \"Layton's Buildings\", \"July 29\", \"tailor\", \n",
    "                  20, \"cholera 17 hours\", \"Southwark & Vauxhall\"]\n",
    "\n",
    "person_list_1 = [2, \"Dobb's Cross\", \"July 30\", \"son of a shop-keeper\", \n",
    "                 10, \"cholera Asiatic 24 hours\", \"Southwark & Vauxhall\"]\n",
    "\n",
    "person_list_2 = [81, \"Ann Street\", \"July 29\", \"son of a labourer\",\n",
    "                 12, \"cholera 8 hours\", \"Southwark & Vauxhall\"]\n",
    "\n",
    "# person_list_3 = ... \n",
    "\n",
    "person_2d_list = [person_list_0, person_list_1, person_list_2]\n",
    "print(f\"This is our list of lists: {person_2d_list}\")"
   ]
  },
  {
   "cell_type": "markdown",
   "id": "cc8408b7",
   "metadata": {},
   "source": [
    "### Coding Exercise: \n",
    "Add `person_3` to our list-of-lists above! \n",
    "\n",
    "\n",
    "In order to store, explore, and manipulate these **tabular** data, we use **Pandas** --- one of the most well-known data science toolkits for Python. While we won't dig too deeply into this \n",
    "\n",
    "<img src=\"imgs/pandas.svg.png\" alt=\"Drawing\" style=\"width: 400px;\"/>\n",
    "\n",
    "**We will use lots of Pandas later in this workshop!** For now, let's load the Pandas library into Python and put our list-of-lists into a Pandas **Dataframe**. \n"
   ]
  },
  {
   "cell_type": "code",
   "execution_count": 7,
   "id": "d995e13c",
   "metadata": {},
   "outputs": [
    {
     "data": {
      "text/html": [
       "<div>\n",
       "<style scoped>\n",
       "    .dataframe tbody tr th:only-of-type {\n",
       "        vertical-align: middle;\n",
       "    }\n",
       "\n",
       "    .dataframe tbody tr th {\n",
       "        vertical-align: top;\n",
       "    }\n",
       "\n",
       "    .dataframe thead th {\n",
       "        text-align: right;\n",
       "    }\n",
       "</style>\n",
       "<table border=\"1\" class=\"dataframe\">\n",
       "  <thead>\n",
       "    <tr style=\"text-align: right;\">\n",
       "      <th></th>\n",
       "      <th>house_number</th>\n",
       "      <th>neighborhood</th>\n",
       "      <th>date</th>\n",
       "      <th>occupation</th>\n",
       "      <th>age</th>\n",
       "      <th>symptoms</th>\n",
       "      <th>water_supplier</th>\n",
       "    </tr>\n",
       "  </thead>\n",
       "  <tbody>\n",
       "    <tr>\n",
       "      <th>0</th>\n",
       "      <td>7</td>\n",
       "      <td>Layton's Buildings</td>\n",
       "      <td>July 29</td>\n",
       "      <td>tailor</td>\n",
       "      <td>20</td>\n",
       "      <td>cholera 17 hours</td>\n",
       "      <td>Southwark &amp; Vauxhall</td>\n",
       "    </tr>\n",
       "    <tr>\n",
       "      <th>1</th>\n",
       "      <td>2</td>\n",
       "      <td>Dobb's Cross</td>\n",
       "      <td>July 30</td>\n",
       "      <td>son of a shop-keeper</td>\n",
       "      <td>10</td>\n",
       "      <td>cholera Asiatic 24 hours</td>\n",
       "      <td>Southwark &amp; Vauxhall</td>\n",
       "    </tr>\n",
       "    <tr>\n",
       "      <th>2</th>\n",
       "      <td>81</td>\n",
       "      <td>Ann Street</td>\n",
       "      <td>July 29</td>\n",
       "      <td>son of a labourer</td>\n",
       "      <td>12</td>\n",
       "      <td>cholera 8 hours</td>\n",
       "      <td>Southwark &amp; Vauxhall</td>\n",
       "    </tr>\n",
       "  </tbody>\n",
       "</table>\n",
       "</div>"
      ],
      "text/plain": [
       "   house_number        neighborhood     date            occupation  age  \\\n",
       "0             7  Layton's Buildings  July 29                tailor   20   \n",
       "1             2        Dobb's Cross  July 30  son of a shop-keeper   10   \n",
       "2            81          Ann Street  July 29     son of a labourer   12   \n",
       "\n",
       "                   symptoms        water_supplier  \n",
       "0          cholera 17 hours  Southwark & Vauxhall  \n",
       "1  cholera Asiatic 24 hours  Southwark & Vauxhall  \n",
       "2           cholera 8 hours  Southwark & Vauxhall  "
      ]
     },
     "execution_count": 7,
     "metadata": {},
     "output_type": "execute_result"
    }
   ],
   "source": [
    "import pandas as pd\n",
    "\n",
    "df = pd.DataFrame.from_records(person_2d_list, columns=headers)\n",
    "df"
   ]
  },
  {
   "cell_type": "markdown",
   "id": "a08c1c3d",
   "metadata": {},
   "source": [
    "\n",
    "<img src=\"imgs/pencil.png\" alt=\"Drawing\" align=left style=\"width: 20px;\"/> <font size=\"4\">**Journal 1f:** Reflection </font>\n",
    "\n",
    "**What did you learn in this notebook?**\n",
    "> Write your answer here! \n",
    "\n",
    "**What would you like to learn in the upcoming Data4All lessons?**\n",
    "> Write your answer here! "
   ]
  },
  {
   "cell_type": "code",
   "execution_count": null,
   "id": "47dbf279",
   "metadata": {},
   "outputs": [],
   "source": []
  }
 ],
 "metadata": {
  "kernelspec": {
   "display_name": "Python 3 (ipykernel)",
   "language": "python",
   "name": "python3"
  },
  "language_info": {
   "codemirror_mode": {
    "name": "ipython",
    "version": 3
   },
   "file_extension": ".py",
   "mimetype": "text/x-python",
   "name": "python",
   "nbconvert_exporter": "python",
   "pygments_lexer": "ipython3",
   "version": "3.9.7"
  }
 },
 "nbformat": 4,
 "nbformat_minor": 5
}
