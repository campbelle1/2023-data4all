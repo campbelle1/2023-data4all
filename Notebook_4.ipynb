{
 "cells": [
  {
   "cell_type": "markdown",
   "id": "20c7a5aa",
   "metadata": {},
   "source": [
    "# Notebook 4: Testing Explanations \n",
    "\n",
    "\n",
    "## 4.1: Experimenting with our Data\n",
    "\n",
    "At this point, we have developed all sorts of 'hypotheses' or 'guesses' of the factors causing people to contract cholera. We noted that some explanatory variables correlate to our death outcome variable... what we want to know now is to determine which of these relationships, if any, are ***statistically significant***. \n",
    "\n",
    "__In this notebook__, we deep-dive into our hypotheses about how cholera spread in London. We seek to separate signal from the noise. That is, we will show that some hypotheses are likely a better fit for the data and are harder to reject, in a statistically significant way, than others. \n",
    "\n",
    "<br>\n",
    "\n",
    "<table><tr>\n",
    "    <td> <img src=\"imgs/santa_p.png\" alt=\"Drawing\" style=\"width: 300px;\"/> </td>\n",
    "</tr></table>\n",
    "\n",
    "<br>\n",
    "\n",
    "**By the end of this notebook, you should be able to**: \n",
    "- Understand the idea of experiments\n",
    "- Create and interpret contingency tables and the $Chi^2$ statistic\n",
    "- Apply this to two theories about how cholera was transmitted\n",
    "- Create data visualizations\n",
    "<br><br>\n",
    "\n",
    "Let's begin by loading our data...\n"
   ]
  },
  {
   "cell_type": "code",
   "execution_count": null,
   "id": "bb8573e9",
   "metadata": {},
   "outputs": [],
   "source": [
    "import pandas as pd\n",
    "from matplotlib import pyplot as plt\n",
    "\n",
    "house_data = pd.read_csv('https://raw.githubusercontent.com/uchicago-dsi/2023-data4all/main/Datasets/deaths_by_house.csv')\n",
    "house_data"
   ]
  },
  {
   "cell_type": "markdown",
   "id": "11236fae",
   "metadata": {},
   "source": [
    "This data looks different than our prior data. This is because people in charge of the city’s sewers went door-to-door in a neighborhood hard hit by cholera deaths to assess the claim that toxic fumes from its sewers were causing the deaths. They collected data from 1,852 households in total, described as follows: \n",
    "- **deaths_r:** the number of deaths of **r**esidents of the house. \n",
    "- **deaths_nr:** the number of deaths of **n**on-**r**esidents (visitors) of the house. \n",
    "- **deaths:** the total deaths of both residents and non-residents. \n",
    "- **pestfield:** houses near the pest field, which some believed was emitting toxic air from people buried there after dying of the pest.\n",
    "- **dis_pestf:** distance (in meters) from the nearest pest field (1m ~ 3.3 ft). \n",
    "- **dis_sewers:** distance (in meters) from the nearest sewer. \n",
    "- **dis_bspump:** distance (in meters) from the Broad St pump.\n",
    "\n",
    "<br>\n",
    "\n",
    "<table><tr>\n",
    "    <td> <img src=\"imgs/doors.jpeg\" alt=\"Drawing\" style=\"width: 500px;\"/> </td>\n",
    "</tr></table>\n",
    "<br>\n",
    "\n",
    "<br>\n",
    "\n",
    "Here, we should pause to discuss an important aspect of data science: ***Data problems like errors, bias, or omissions.***\n",
    "\n",
    "<br>\n",
    "\n",
    "<img src=\"imgs/pencil.png\" alt=\"Drawing\" align=left style=\"width: 20px;\"/> <font size=4> **Journal 4a:** Identifying Problems in our Data </font>\n",
    "\n",
    "**What data problems (e.g., errors, bias, or ommissions) might be present in John Snow's manually-collected household data set?** \n",
    "\n",
    "> Write your answer here! "
   ]
  },
  {
   "cell_type": "markdown",
   "id": "fe62cf54",
   "metadata": {},
   "source": [
    "## 4.2: Introducing the Idea of Experiments\n",
    "\n",
    "You used correlations before to explore whether there is a positive, negative (or no!) relationship between two variables. You also assessed how strong this relationship is and whether it is statistically significant. In this case, the variables had values that ranged across a whole continuum of numbers, i.e. they were continuously distributed. \n",
    "\n",
    "What you’ll do in this notebook is convert continuously distributed data into categories (= categorical data). Why? Because you can  group your data in a way that allows you to compare the outcome in one group to that of another group, contingent on a condition. The condition will be the potential explanation you want to explore across groups to see if it has a differential impact. \n",
    "\n",
    "For instance, you could create groups based on whether people died of a disease or not – and whether they lived in high-density areas or not. That gives you a 2x2 crosstab and four groups (also called a ***contingency table***). After you add the count of the number of people in each of the four crosstab cells, you are ready to make a two-way comparison: Did more people die in the high- vs low-density areas and were there more survivors in low- than high-density areas? The idea here is that you have one group that is exposed to a condition (density) more so than another group. When you run an actual experiment, the exposed group is often called an impact or treatment group while the unexposed group is the control.\n",
    "\n",
    "\n",
    "<img src=\"imgs/image 4.2a.png\" style=\"width: 800px;\"/>\n",
    "    \n",
    "\n",
    "In the case of correlations, `pandas` gave you the correlation coefficient $r$ that indicated the direction and strength of the linear relation between two variables. A $p$-value indicated whether or not this relation is **statistically significant**, i.e. different from what you would get for random data patterns.\n",
    "\n",
    "---------------------------------------------\n",
    "### A quick dive into p-values... \n",
    "\n",
    "A $p$-value measures how probable it is that what you observe differs from what you would expect, *e.g.,* compared to random chance. You want to quantify how certain you can be that your results are less probable than what could have gotten randomly. Hence, a lower $p$-value is more statistically significant than a higher one.\n",
    "\n",
    "Statisticians often select a ‘threshold’ value that indicates whether a p-value is significant-enough. While this threshold can vary across science discipline or use cases, a common threshold is 0.05. This means you expect to differ from randomness 95% of the time — and are willing to be wrong 5% of the time.\n",
    "\n",
    "As a specific example, say you run a $Chi^2$ test to determine whether people who eat more gummy bears are also more likely to die of cholera — compared to people who eat fewer gummy bears. If your threshold is 0.05 and the observed $p$-value is 0.09, then we state that the two groups are not statistically significant, because 0.09 > 0.05.\n",
    "\n",
    "---------------------------------------------\n",
    "\n",
    "\n",
    "To assess whether the relation between an outcome and explanatory variable differs between the groups in the contingency table, we need a new statistic and significance test for categorical data. The test statistic we will use is called >> $Chi^2$ <<. While we won't go into too much detail here, those who are interested can find more information about $Chi^2$ at the end of this notebook! \n"
   ]
  },
  {
   "cell_type": "markdown",
   "id": "f87b5612",
   "metadata": {},
   "source": [
    "## 4.3: Investigating the Sewers\n",
    "\n",
    "The first theory we will explore assumes that cholera is airborne and that people get infected by inhaling toxic fumes from localized sources. In this case, the source is fumes emitted from sewage lines through gully holes. \n",
    "\n",
    "If this theory was true, then closer proximity to sewers would make it more likely to inhale the toxic air and contract cholera. For simplicity, let us assume someone is 'close' to a sewer if they are at most 40 feet (12.2 meters) from it... otherwise they are 'far'.\n",
    "\n",
    "<table><tr>\n",
    "    <td> <img src=\"imgs/channel-sewer.jpeg\" alt=\"Drawing\" style=\"width: 300px;\"/> </td>\n",
    "</tr></table>\n",
    "\n",
    "Now we will learn how to conduct a $Chi^2$ analysis using a contingency table in order to determine if there are statistically significant differences in \"death\" outcomes between those who are close-to versus far-from a sewer!\n",
    "\n",
    "\n",
    "##### Let us first filter our data to create our contingency table!"
   ]
  },
  {
   "cell_type": "code",
   "execution_count": null,
   "id": "a3d67b2a",
   "metadata": {},
   "outputs": [],
   "source": [
    "# This is a *function* that allows us to visualize our table. We do not yet discuss functions in detail. \n",
    "\n",
    "def visualize_contingency_table(contingency_table, top_labels, left_labels):\n",
    "    # print(\"\\t\\t  Close | Far \")\n",
    "    print('{:<20s} {:<20s} {:<10s}'.format(top_labels[0], top_labels[1], top_labels[2]))\n",
    "\n",
    "    i = 0\n",
    "    for line in contingency_table:\n",
    "        print('{:<20s} {:<20s} {:<10s}'.format(left_labels[i], str(line[0]), str(line[1])))\n",
    "        i += 1\n",
    "    print(\"\\n\")"
   ]
  },
  {
   "cell_type": "code",
   "execution_count": null,
   "id": "c558c8a9",
   "metadata": {},
   "outputs": [],
   "source": [
    "# We first want to 'filter' our data frame to see only people who are close/far from sewer. \n",
    "sewer_close_deaths_df = house_data.loc[house_data['dis_sewers'] <= 12.2] \n",
    "sewer_far_deaths_df = house_data.loc[house_data['???'] > ???] \n",
    "\n",
    "# We next want to calculate the number of deaths in each class. \n",
    "sewer_close_deaths = sewer_close_deaths_df['deaths'].???() # what function is this? \n",
    "sewer_far_deaths = sewer_far_deaths_df['deaths'].???() # what function is this?\n",
    "\n",
    "\n",
    "# We next want to 'filter' for non-deaths by determining if no residents OR non-residents died at a house. \n",
    "# ... we'll provide this one as it's a bit trickier!\n",
    "sewer_close_nondeaths = sum((sewer_close_deaths_df.deaths == 0))\n",
    "sewer_far_nondeaths = sum((sewer_far_deaths_df.deaths == 0))\n",
    "\n",
    "\n",
    "print(f\"Number of deaths close to sewers: {sewer_close_deaths}\")\n",
    "print(f\"Number of deaths far from sewers {sewer_far_deaths}\\n\")\n",
    "\n",
    "print(f\"Number of nondeaths close to sewers: {sewer_close_nondeaths}\")\n",
    "print(f\"Number of nondeaths far from sewers {sewer_far_nondeaths}\\n\\n\")"
   ]
  },
  {
   "cell_type": "code",
   "execution_count": null,
   "id": "1d6132c6",
   "metadata": {},
   "outputs": [],
   "source": [
    "# Now let's put it all together into a contingency table with the following shape! \n",
    "#            | Deaths | Non Deaths |\n",
    "# Close      |    A   |     B      |\n",
    "# Far        |    C   |     D      |\n",
    "\n",
    "contingency_table = [\n",
    "    [sewer_close_deaths, sewer_far_deaths],\n",
    "    [sewer_close_nondeaths, sewer_far_nondeaths]\n",
    "]\n",
    "\n",
    "left_labels = [\"Close\", \"Far\"]\n",
    "top_labels = [\" \", \"Deaths\", \"Non Deaths\"]\n",
    "\n",
    "print(\"Our contingency table...\")\n",
    "visualize_contingency_table(contingency_table, top_labels, left_labels)"
   ]
  },
  {
   "cell_type": "code",
   "execution_count": null,
   "id": "c80e3d79",
   "metadata": {},
   "outputs": [],
   "source": [
    "from scipy.stats import chi2_contingency\n",
    "# Now let us get our p-value! \n",
    "# ... when doing data science in Python, it is common convention to use\n",
    "#.    \"_\" characters to mark variables whose values we don't need. \n",
    "chi_square, p_value, _, _ = chi2_contingency(contingency_table)\n",
    "print(f\"Our p-value: {p_value}\")\n",
    "print(f\"Our Chi-squared value: {chi_square}\")"
   ]
  },
  {
   "cell_type": "markdown",
   "id": "de4d0078",
   "metadata": {},
   "source": [
    "<img src=\"imgs/pencil.png\" alt=\"Drawing\" align=left style=\"width: 20px;\"/> <font size=4> **Journal 4b:** Interpreting p-value for $Chi^2$ test: Sewers</font>\n",
    "\n",
    "**Based on the $p$-value of your $Chi^2$ test, is the relationship you observe between deaths and closeness to sewers significantly different from what you would expect if equal numbers of people were in each of the four groups? (at a 95% confidence level)** \n",
    "\n",
    "> Write your answer here! \n",
    "\n",
    "\n",
    "An important part of data science is not only determining statistical significance of hypotheses, but also communicating your findings to people without a statistics background. \n",
    "\n",
    "Imagine reading a newspaper headline (like below) that says ’The $p$-value was below $0.05$’... the average person does not know what this means! Visualizing your results is an important step in convincing others that your evidence is compelling! In the following, we create (and interpret) data visualizations that make it easier to understand your statistical results.\n",
    "\n",
    "<table><tr>\n",
    "    <td> <img src=\"imgs/funny_paper.jpeg\" alt=\"Drawing\" style=\"width: 300px;\"/> </td>\n",
    "</tr></table>\n",
    "\n",
    "\n",
    "\n",
    "We first explore a **histogram** -- a type of bar graph used to show differences in the frequency (or count) of various events. (In this case, the events are deaths and non-deaths of people close and far from the sewer). "
   ]
  },
  {
   "cell_type": "code",
   "execution_count": null,
   "id": "68c3c091",
   "metadata": {},
   "outputs": [],
   "source": [
    "# Histogram\n",
    "\n",
    "# Let's calculate the percentages of deaths that are 'close' versus 'far'. \n",
    "#    Close Deaths + Far Deaths should sum to 1! \n",
    "# (then we can do the same for non-graphs)\n",
    "sewer_close_deaths_pct = sewer_close_deaths / (sewer_close_deaths+sewer_far_deaths)\n",
    "sewer_far_deaths_pct = 1 - sewer_close_deaths_pct\n",
    "\n",
    "sewer_close_nondeaths_pct = sewer_close_nondeaths / (sewer_close_nondeaths+sewer_far_nondeaths)\n",
    "sewer_far_nondeaths_pct = 1 - sewer_close_nondeaths_pct\n",
    "\n",
    "\n",
    "# 1. Let's first view the CLOSE deaths vs nondeaths. \n",
    "plt.bar(x=['close_deaths', 'close_nondeaths'], \n",
    "        height=[sewer_close_deaths_pct, sewer_close_nondeaths_pct], color='purple', label='close')\n",
    "\n",
    "# 2. Let's first view the FAR deaths vs nondeaths.\n",
    "plt.bar(x=['far_deaths', 'far_nondeaths'], \n",
    "        height=[sewer_far_deaths_pct, sewer_far_nondeaths_pct], color='gold', label='far')\n",
    "plt.ylim((0,1))\n",
    "plt.title(\"Deaths and Nondeaths (Close and Far): HISTOGRAM\")\n",
    "plt.legend()"
   ]
  },
  {
   "cell_type": "markdown",
   "id": "ea82154c",
   "metadata": {},
   "source": [
    "As an alternative to histograms, line graphs can be used to display the same data. See below...."
   ]
  },
  {
   "cell_type": "code",
   "execution_count": null,
   "id": "8b8b8b69",
   "metadata": {},
   "outputs": [],
   "source": [
    "# Line graphs\n",
    "\n",
    "plt.plot(['Close', 'Far'], [sewer_close_deaths_pct, sewer_far_deaths_pct], label='deaths')\n",
    "plt.plot(['Close', 'Far'], [sewer_close_nondeaths_pct, sewer_far_nondeaths_pct], label='nondeaths')\n",
    "plt.legend()\n",
    "plt.title(\"Deaths and Nondeaths (Close versus Far): LINE GRAPH\")"
   ]
  },
  {
   "cell_type": "markdown",
   "id": "36d6bbd3",
   "metadata": {},
   "source": [
    "<img src=\"imgs/pencil.png\" alt=\"Drawing\" align=left style=\"width: 20px;\"/> <font size=4> **Journal 4c:** Interpreting the Visualizations</font>\n",
    "\n",
    "**Do the histogram and line graph reach the same conclusion as your $Chi^2$ analysis? Why or why not?** \n",
    "\n",
    "> Write your answer here! \n",
    "\n",
    "<br>\n",
    "\n",
    "<br>\n",
    "\n",
    "--------------\n",
    "\n",
    "### The 3 second rule\n",
    "The 3 Second Rule (https://stephanieevergreen.com/the-3-second-rule/) states that one gets 3 seconds to grab someone’s attention and flag the take-home point of a data visualization. \n",
    "\n",
    "--------------\n",
    "\n",
    "<br>\n",
    "\n",
    "<br>\n",
    "\n",
    "\n",
    "<img src=\"imgs/pencil.png\" alt=\"Drawing\" align=left style=\"width: 20px;\"/> <font size=4> **Journal 4d:** The BETTER visualization</font>\n",
    "\n",
    "**Which visualization (histogram or line graph) better follows the 3-second rule?** \n",
    "\n",
    "> Write your answer here! "
   ]
  },
  {
   "cell_type": "markdown",
   "id": "6b992896",
   "metadata": {},
   "source": [
    "## 4.4: Investigating the Broad Street Pump"
   ]
  },
  {
   "cell_type": "markdown",
   "id": "1af67128",
   "metadata": {},
   "source": [
    "Next, we want to explore the theory that cholera was transmitted through contaminated water. At the time, John Snow guessed that the water of a particular pump, the Broad Street Pump, might have carried pieces of poisonous sewage. Was this true? \n",
    "\n",
    "<table><tr>\n",
    "    <td> <img src=\"imgs/pump3.jpeg\" alt=\"Drawing\" style=\"width: 300px;\"/> </td>\n",
    "</tr></table>\n",
    "\n",
    "Now that you have experience performing not one, but TWO $Chi^2$ analyses, this one will be largely independent! In the following cells, you will need to: \n",
    "- filter your data\n",
    "- create a contingency table\n",
    "- generate (and comment on) the statistical significance\n",
    "- provide one visualization (two, if time!) to convince your audience that your conclusion is plausible! \n",
    "\n",
    "**Pro-tip:** the most important tool in any data scientist's toolbox (even more important than python) is copy-and-paste! "
   ]
  },
  {
   "cell_type": "code",
   "execution_count": null,
   "id": "f52c22d3",
   "metadata": {},
   "outputs": [],
   "source": [
    "# Filter data here. \n",
    "# For pump closeness, use a distance of 160 meters! \n"
   ]
  },
  {
   "cell_type": "code",
   "execution_count": null,
   "id": "f41d2fb4",
   "metadata": {},
   "outputs": [],
   "source": [
    "# Create contingency table here. \n"
   ]
  },
  {
   "cell_type": "code",
   "execution_count": null,
   "id": "8cbf2833",
   "metadata": {},
   "outputs": [],
   "source": [
    "# Find p-value here. \n"
   ]
  },
  {
   "cell_type": "markdown",
   "id": "40c08d82",
   "metadata": {},
   "source": [
    "<img src=\"imgs/pencil.png\" alt=\"Drawing\" align=left style=\"width: 20px;\"/> <font size=4> **Journal 4e:** Interpreting p-value: Sewers</font>\n",
    "\n",
    "**Based on your $p$-value, is the relation you observe between deaths and closeness to sewers significantly different from what you would expect if the number of people in each group was equal? (at a 95% confidence interval?)** \n",
    "\n",
    "> Write your answer here! "
   ]
  },
  {
   "cell_type": "code",
   "execution_count": null,
   "id": "0c81cf1b",
   "metadata": {},
   "outputs": [],
   "source": [
    "# Create histogram here. \n"
   ]
  },
  {
   "cell_type": "code",
   "execution_count": null,
   "id": "19befff0",
   "metadata": {},
   "outputs": [],
   "source": [
    "# Create line graph here. \n"
   ]
  },
  {
   "cell_type": "markdown",
   "id": "bef528e7",
   "metadata": {},
   "source": [
    "<img src=\"imgs/pencil.png\" alt=\"Drawing\" align=left style=\"width: 20px;\"/> <font size=4> **Journal 4f:** Interpreting the Visualizations</font>\n",
    "\n",
    "**Do the histogram and line graph reach the same conclusion as your $Chi^2$ analysis? Why or why not?** \n",
    "\n",
    "> Write your answer here! \n",
    "\n",
    "<br>\n",
    "\n",
    "<br>\n",
    "\n",
    "--------------"
   ]
  },
  {
   "cell_type": "markdown",
   "id": "b1e10797",
   "metadata": {},
   "source": [
    "## 4.5: Reflection\n",
    "<img src=\"imgs/pencil.png\" alt=\"Drawing\" align=left style=\"width: 20px;\"/> <font size=\"4\">**Journal 4g:** Reflection </font>\n",
    "\n",
    "At the end of each notebook in Data4All, we will take time to reflect on what we learned! You can write as much or as little as you like, but please answer the following three questions... \n",
    "\n",
    "**What do you understand better after this notebook than before?**\n",
    "> Write your answer here! \n",
    "\n",
    "**Please fill out the Notebook survey here!**\n",
    "> https://forms.gle/54KHEbPGsRxQU3Bh9\n",
    "\n",
    "<br>\n",
    "\n",
    "--------------------------------\n",
    "\n",
    "<br>\n",
    "\n",
    "<img src=\"imgs/save-icon.jpeg\" alt=\"Drawing\" align=left style=\"width: 20px;\"/> <font size=\"4\">     **&ensp;&ensp;&ensp;Last step: save your work!** </font>"
   ]
  },
  {
   "cell_type": "code",
   "execution_count": null,
   "id": "54b7db9a",
   "metadata": {},
   "outputs": [],
   "source": []
  }
 ],
 "metadata": {
  "kernelspec": {
   "display_name": "Python 3 (ipykernel)",
   "language": "python",
   "name": "python3"
  },
  "language_info": {
   "codemirror_mode": {
    "name": "ipython",
    "version": 3
   },
   "file_extension": ".py",
   "mimetype": "text/x-python",
   "name": "python",
   "nbconvert_exporter": "python",
   "pygments_lexer": "ipython3",
   "version": "3.9.12"
  }
 },
 "nbformat": 4,
 "nbformat_minor": 5
}
