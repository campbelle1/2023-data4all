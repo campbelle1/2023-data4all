{
 "cells": [
  {
   "cell_type": "markdown",
   "id": "192a7107",
   "metadata": {
    "id": "192a7107"
   },
   "source": [
    "# Notebook 2: Exploring the Data I\n",
    "\n",
    "\n",
    "## 2.1: Seeing the Problem in Data\n",
    "\n",
    "Finding the origins of cholera's spread was a controversial issue in the 1800s. Before even seeing the problem in the data, the people of that time could see cholera **all around them**. As friends and relatives grew gravely ill, it became urgent to discover **why** this was happening in hopes of putting a stop to it.\n",
    "\n",
    "People, including the local media, had different ideas about what could be causing cholera. For instance, take a look at the following political cartoon of the time:\n",
    "<br>\n",
    "\n",
    "<table><tr>\n",
    "    <td> <img src=\"https://github.com/uchicago-dsi/2023-data4all/blob/main/imgs/king_cholera.png?raw=true\" alt=\"Drawing\" width= 600px;\"/> </td>\n",
    "</tr></table>\n",
    "\n",
    "<br>\n",
    "\n",
    "<img src=\"https://github.com/uchicago-dsi/2023-data4all/blob/main/imgs/pencil.png?raw=true\" alt=\"Drawing\" align=left width=10px/> <font size=4> **Journal 2a:** Interpret the Cartoon </font>\n",
    "\n",
    "**What do you think is the underlying message of this cartoon?**\n",
    "\n",
    "> Write your answer here!\n",
    "\n",
    "<br>\n",
    "\n",
    "-------------------------------------------------------------------------------------------------\n",
    "\n",
    "<br>\n",
    "\n",
    "**By the end of this notebook, you should be able to:**\n",
    "- Understand what the problem is through the data\n",
    "- Normalize data and understand why it’s important to do so\n",
    "- Create an outcome variable with real-world data\n",
    "\n",
    "<br>"
   ]
  },
  {
   "cell_type": "markdown",
   "id": "bfb0c3eb",
   "metadata": {
    "id": "bfb0c3eb"
   },
   "source": [
    "### Data Science 101: Finding the Problem\n",
    "\n",
    "Data scientists have curious minds; when confronted with a problem in the 'real world' they first try to better understand that problem with data (before, of course, looking for answers and solutions).\n",
    "\n",
    "After all, it's a lot easier for superheroes to solve a mystery when there's a signal illuminating what is driving the problem.\n",
    "\n",
    "<img src = \"https://github.com/uchicago-dsi/2023-data4all/blob/main/imgs/bat-signal.jpeg?raw=true\" width=\"700\"/>\n",
    "\n",
    "\n",
    "<br><br>\n",
    "\n",
    "Using the Pandas toolkit, let's see if we can dig into our data to gain any insight as to ***when*** cholera outbreaks have occurred. The data below show, for a given year, how many people lived in London and how many people died there (of any cause)."
   ]
  },
  {
   "cell_type": "code",
   "execution_count": 1,
   "id": "77b2df3e",
   "metadata": {
    "executionInfo": {
     "elapsed": 1214,
     "status": "ok",
     "timestamp": 1712418704108,
     "user": {
      "displayName": "Stephania Tello Zamudio",
      "userId": "03283918962362761665"
     },
     "user_tz": 300
    },
    "id": "77b2df3e"
   },
   "outputs": [],
   "source": [
    "# Load our Pandas data science library\n",
    "import pandas as pd"
   ]
  },
  {
   "cell_type": "code",
   "execution_count": 2,
   "id": "11121ec3",
   "metadata": {
    "colab": {
     "base_uri": "https://localhost:8080/",
     "height": 519
    },
    "executionInfo": {
     "elapsed": 526,
     "status": "ok",
     "timestamp": 1712418707340,
     "user": {
      "displayName": "Stephania Tello Zamudio",
      "userId": "03283918962362761665"
     },
     "user_tz": 300
    },
    "id": "11121ec3",
    "outputId": "684c2330-f03c-4e16-babf-cfde8f0646e0"
   },
   "outputs": [
    {
     "data": {
      "text/html": [
       "<div>\n",
       "<style scoped>\n",
       "    .dataframe tbody tr th:only-of-type {\n",
       "        vertical-align: middle;\n",
       "    }\n",
       "\n",
       "    .dataframe tbody tr th {\n",
       "        vertical-align: top;\n",
       "    }\n",
       "\n",
       "    .dataframe thead th {\n",
       "        text-align: right;\n",
       "    }\n",
       "</style>\n",
       "<table border=\"1\" class=\"dataframe\">\n",
       "  <thead>\n",
       "    <tr style=\"text-align: right;\">\n",
       "      <th></th>\n",
       "      <th>year</th>\n",
       "      <th>population</th>\n",
       "      <th>deaths</th>\n",
       "    </tr>\n",
       "  </thead>\n",
       "  <tbody>\n",
       "    <tr>\n",
       "      <th>0</th>\n",
       "      <td>1840</td>\n",
       "      <td>1842458</td>\n",
       "      <td>46281</td>\n",
       "    </tr>\n",
       "    <tr>\n",
       "      <th>1</th>\n",
       "      <td>1841</td>\n",
       "      <td>1877963</td>\n",
       "      <td>45284</td>\n",
       "    </tr>\n",
       "    <tr>\n",
       "      <th>2</th>\n",
       "      <td>1842</td>\n",
       "      <td>1916860</td>\n",
       "      <td>45272</td>\n",
       "    </tr>\n",
       "    <tr>\n",
       "      <th>3</th>\n",
       "      <td>1843</td>\n",
       "      <td>1953787</td>\n",
       "      <td>48574</td>\n",
       "    </tr>\n",
       "    <tr>\n",
       "      <th>4</th>\n",
       "      <td>1844</td>\n",
       "      <td>2033816</td>\n",
       "      <td>50423</td>\n",
       "    </tr>\n",
       "    <tr>\n",
       "      <th>5</th>\n",
       "      <td>1845</td>\n",
       "      <td>2073298</td>\n",
       "      <td>48332</td>\n",
       "    </tr>\n",
       "    <tr>\n",
       "      <th>6</th>\n",
       "      <td>1846</td>\n",
       "      <td>2113535</td>\n",
       "      <td>49089</td>\n",
       "    </tr>\n",
       "    <tr>\n",
       "      <th>7</th>\n",
       "      <td>1847</td>\n",
       "      <td>2195401</td>\n",
       "      <td>60442</td>\n",
       "    </tr>\n",
       "    <tr>\n",
       "      <th>8</th>\n",
       "      <td>1848</td>\n",
       "      <td>2238703</td>\n",
       "      <td>57628</td>\n",
       "    </tr>\n",
       "    <tr>\n",
       "      <th>9</th>\n",
       "      <td>1849</td>\n",
       "      <td>2282858</td>\n",
       "      <td>68432</td>\n",
       "    </tr>\n",
       "    <tr>\n",
       "      <th>10</th>\n",
       "      <td>1850</td>\n",
       "      <td>2327884</td>\n",
       "      <td>48579</td>\n",
       "    </tr>\n",
       "    <tr>\n",
       "      <th>11</th>\n",
       "      <td>1851</td>\n",
       "      <td>2373799</td>\n",
       "      <td>55354</td>\n",
       "    </tr>\n",
       "    <tr>\n",
       "      <th>12</th>\n",
       "      <td>1852</td>\n",
       "      <td>2420619</td>\n",
       "      <td>54213</td>\n",
       "    </tr>\n",
       "    <tr>\n",
       "      <th>13</th>\n",
       "      <td>1853</td>\n",
       "      <td>2468362</td>\n",
       "      <td>61202</td>\n",
       "    </tr>\n",
       "    <tr>\n",
       "      <th>14</th>\n",
       "      <td>1854</td>\n",
       "      <td>2517048</td>\n",
       "      <td>73697</td>\n",
       "    </tr>\n",
       "  </tbody>\n",
       "</table>\n",
       "</div>"
      ],
      "text/plain": [
       "    year  population  deaths\n",
       "0   1840     1842458   46281\n",
       "1   1841     1877963   45284\n",
       "2   1842     1916860   45272\n",
       "3   1843     1953787   48574\n",
       "4   1844     2033816   50423\n",
       "5   1845     2073298   48332\n",
       "6   1846     2113535   49089\n",
       "7   1847     2195401   60442\n",
       "8   1848     2238703   57628\n",
       "9   1849     2282858   68432\n",
       "10  1850     2327884   48579\n",
       "11  1851     2373799   55354\n",
       "12  1852     2420619   54213\n",
       "13  1853     2468362   61202\n",
       "14  1854     2517048   73697"
      ]
     },
     "execution_count": 2,
     "metadata": {},
     "output_type": "execute_result"
    }
   ],
   "source": [
    "# Load data about London\n",
    "London = pd.read_csv(\"https://github.com/uchicago-dsi/2023-data4all/blob/main/Datasets/London.csv?raw=true\")\n",
    "London"
   ]
  },
  {
   "cell_type": "markdown",
   "id": "5916504d",
   "metadata": {
    "id": "5916504d"
   },
   "source": [
    "<img src=\"https://github.com/uchicago-dsi/2023-data4all/blob/main/imgs/pencil.png?raw=true\" alt=\"Drawing\" align=left width= 20px/> <font size=4> **Journal 2b:** Thinking about the Data </font>\n",
    "\n",
    "**In 1-3 sentences, comment on what you see in these data. Is there enough here to determine when cholera outbreaks occurred? Why or why not?**\n",
    "\n",
    "> Write your answer here!"
   ]
  },
  {
   "cell_type": "markdown",
   "id": "675802ea",
   "metadata": {
    "id": "675802ea"
   },
   "source": [
    "### The importance of normalization\n",
    "\n",
    "`deaths` are higher in 1854 than in 1840. Is this because of cholera? *Maybe*. Is this because of population growth? *Possibly*. Simply put, if you have more people in a city, then more people die.\n",
    "\n",
    "For instance, if `40,000` people die in Chicago each year (pop. 3,000,000), and only `50` people die in the small town Salem, NJ each year (pop. 5,000) ... then are you `40,000 / 50 = 800` times less likely to die in Salem?!\n",
    "\n",
    "\n",
    "<table><tr>\n",
    "    <td> <img src=\"https://github.com/uchicago-dsi/2023-data4all/blob/main/imgs/chicago.jpeg?raw=true\" alt=\"Drawing\" width=\"500\"> </td>\n",
    "    <td> <img src=\"https://raw.githubusercontent.com/uchicago-dsi/2023-data4all/published/imgs/salemNJ.png?raw=true\" alt=\"Drawing\" width=\"500\"> </td>\n",
    "</tr></table>\n",
    "\n",
    "This example highlights the importance of ***normalization***: adjusting the values of data so that they are on the **same scale**  – in this case, so you can compare the chance of dying in the much larger city of Chicago vs. the much smaller town of Salem.\n",
    "\n",
    "\n",
    "<br><br>\n",
    "<img src=\"https://github.com/uchicago-dsi/2023-data4all/blob/main/imgs/pencil.png?raw=true\" alt=\"Drawing\" align=left width=20px/> <font size=4> **Journal 2c**: How to Normalize\n",
    "    \n",
    "**For the London data, how might you normalize to find years when cholera is particularly fatal?**</font>\n",
    "\n",
    "> Write your answer here!\n",
    "\n",
    "<br><br>\n",
    "\n",
    "## 2.2: Creating an Outcome Variable\n",
    "An **outcome variable** is the variable that we want to explain using other variables! You can **normalize an outcome variable** to avoid the influence of population discussed earlier.\n",
    "\n",
    "Let's return to the London example...\n",
    "\n",
    "Since we are interested in reasons why people die of cholera, `deaths` seems like a logical choice for our outcome variable!\n",
    "\n",
    "BUT different years have different populations, which leads us to the \"Chicago-vs-Salem\" dilemma from before...\n",
    "\n",
    "We can easily normalize `deaths` by using the `population` variable to create a `death rate`, also known as \"Mortality Rate\".\n",
    "\n",
    "This is done with the following calculation:\n",
    "$$death \\ rate = {deaths \\over population} \\times 1000$$\n",
    "\n",
    "which is the same as\n",
    "\n",
    "$$death \\ rate = {deaths \\div population} \\times 1000$$\n",
    "\n",
    "**Task:** run the following cell. The code is going to repeat the death rate calculation for each row (15 times, total). If done correctly, you should have a new column called \"deaths_per_1000\", with a value for each year."
   ]
  },
  {
   "cell_type": "code",
   "execution_count": null,
   "id": "b152d303",
   "metadata": {
    "colab": {
     "base_uri": "https://localhost:8080/",
     "height": 514
    },
    "executionInfo": {
     "elapsed": 251,
     "status": "ok",
     "timestamp": 1709667414778,
     "user": {
      "displayName": "Evelyn Campbell,",
      "userId": "04745197503951576090"
     },
     "user_tz": 360
    },
    "id": "b152d303",
    "outputId": "53302032-2a4d-41c2-a6a9-ee050861701d"
   },
   "outputs": [],
   "source": [
    "# Calculate death (mortality) rate per 1,000 people.\n",
    "# The \"/\" means that we divide every item in the \"deaths\" column by every item in the \"population\" column.\n",
    "# The \"*\" means that we multiply every value (for our new outcome variable) by 1000.\n",
    "\n",
    "London['deaths_per_1000'] = London['deaths'] / London['population'] * 1000\n",
    "\n",
    "London"
   ]
  },
  {
   "cell_type": "markdown",
   "id": "4209f435",
   "metadata": {
    "id": "4209f435"
   },
   "source": [
    "<img src=\"https://github.com/uchicago-dsi/2023-data4all/blob/main/imgs/pencil.png?raw=true\" alt=\"Drawing\" align=left width=10px/> <font size=4> **Journal 2d**: The magic of 'per'\n",
    "    \n",
    "**Explain in your own words why `deaths_per_1000` is a better outcome variable than `deaths`?**</font>\n",
    "\n",
    "> Write your answer here!\n",
    "\n",
    "\n",
    "<img src=\"https://github.com/uchicago-dsi/2023-data4all/blob/main/imgs/pencil.png?raw=true\" alt=\"Drawing\" align=left width=10px/> <font size=4> **Journal 2e**: Identifying the Outbreak(s)\n",
    "    \n",
    "**What years, based on your new outcome variable, are there cholera outbreaks?**</font>\n",
    "\n",
    "> Write your answer here!\n",
    "\n",
    "----------------------------------------------"
   ]
  },
  {
   "cell_type": "markdown",
   "id": "344d6e71",
   "metadata": {
    "id": "344d6e71"
   },
   "source": [
    "<img src=\"https://github.com/uchicago-dsi/2023-data4all/blob/main/imgs/pencil.png?raw=true\" alt=\"Drawing\" align=left width=10px/> <font size=\"4\">**Journal 2f:** Reflection </font>\n",
    "\n",
    "**As you look at the data, briefly describe the \"problem\" facing the people of London.**\n",
    "> Write your answer here!\n",
    "\n",
    "**Please fill out the Notebook survey here!**\n",
    "> https://forms.gle/54KHEbPGsRxQU3Bh9\n",
    "\n",
    "<br>\n",
    "\n",
    "--------------------------------\n",
    "\n",
    "<br>\n",
    "\n",
    "<img src=\"https://github.com/uchicago-dsi/2023-data4all/blob/main/imgs/save-icon.jpeg?raw=true\" alt=\"Drawing\" align=left width=20px/> <font size=\"4\">     **&ensp;&ensp;&ensp;Last step: save your work!** </font>"
   ]
  },
  {
   "cell_type": "code",
   "execution_count": null,
   "id": "2f66f548",
   "metadata": {
    "id": "2f66f548"
   },
   "outputs": [],
   "source": []
  }
 ],
 "metadata": {
  "colab": {
   "provenance": []
  },
  "kernelspec": {
   "display_name": "Python 3 (ipykernel)",
   "language": "python",
   "name": "python3"
  },
  "language_info": {
   "codemirror_mode": {
    "name": "ipython",
    "version": 3
   },
   "file_extension": ".py",
   "mimetype": "text/x-python",
   "name": "python",
   "nbconvert_exporter": "python",
   "pygments_lexer": "ipython3",
   "version": "3.12.4"
  }
 },
 "nbformat": 4,
 "nbformat_minor": 5
}
